{
  "nbformat": 4,
  "nbformat_minor": 0,
  "metadata": {
    "colab": {
      "name": "homework1_group_15.ipynb",
      "provenance": [],
      "authorship_tag": "ABX9TyM8Qf4LS0v048c3/iM0NqD9",
      "include_colab_link": true
    },
    "kernelspec": {
      "name": "python3",
      "display_name": "Python 3"
    },
    "language_info": {
      "name": "python"
    }
  },
  "cells": [
    {
      "cell_type": "markdown",
      "metadata": {
        "id": "view-in-github",
        "colab_type": "text"
      },
      "source": [
        "<a href=\"https://colab.research.google.com/github/ermutigen/Traceroute/blob/master/Homework1/homework1_group_15.ipynb\" target=\"_parent\"><img src=\"https://colab.research.google.com/assets/colab-badge.svg\" alt=\"Open In Colab\"/></a>"
      ]
    },
    {
      "cell_type": "markdown",
      "source": [
        "# ISSEM Homework 1 Assignment - Group 15\n",
        "### Apache Log4j Vulnerability\n",
        "\n",
        "1. How/where was it Released\n",
        "\n",
        "2. How it was detected\n",
        "\n",
        "3. What damage it inflicted\n",
        "\n",
        "4. What remediations were put in and by whom\n",
        "\n",
        "5. What were the crucial enablers for this disaster in retrospective\n",
        "\n",
        "6. What could have been done better\n",
        "\n",
        "7. How do we prevent this in the future or is likley to recur\n",
        "\n",
        "\n",
        "\n"
      ],
      "metadata": {
        "id": "KdOhqJNdyEHh"
      }
    }
  ]
}
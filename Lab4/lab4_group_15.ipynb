{
  "nbformat": 4,
  "nbformat_minor": 0,
  "metadata": {
    "colab": {
      "name": "lab4_group_15.ipynb",
      "provenance": [],
      "authorship_tag": "ABX9TyPUBIR5U1BMPJXTqtlsz3yz",
      "include_colab_link": true
    },
    "kernelspec": {
      "name": "python3",
      "display_name": "Python 3"
    },
    "language_info": {
      "name": "python"
    }
  },
  "cells": [
    {
      "cell_type": "markdown",
      "metadata": {
        "id": "view-in-github",
        "colab_type": "text"
      },
      "source": [
        "<a href=\"https://colab.research.google.com/github/ermutigen/Traceroute/blob/master/Lab4/lab4_group_15.ipynb\" target=\"_parent\"><img src=\"https://colab.research.google.com/assets/colab-badge.svg\" alt=\"Open In Colab\"/></a>"
      ]
    },
    {
      "cell_type": "markdown",
      "source": [
        "#Lab 4 - Group 15 - Infant Incubator Model and Simulator  \n",
        "Jake Woratzeck - jcw9324  \n",
        "Trang Duong - tpd269  \n",
        "Eric Lankford - el3293  \n",
        "Shak Farok - saf642  \n",
        "\n",
        "##Task:  \n",
        "\n",
        "**Task 1- Summarize your understanding of Infant Incubator Simulator in no more than 500 words.**\n",
        "\n",
        "The infant incubator is a simulation of a real-world incubator which would provide a sheltered, managed environment for infants that have been born prematurely, with breathing problems, infection, or other issues. The incubator allows for regulation of different variables including light, temperature, oxygen, and humidity.\n",
        "\n",
        "The purpose is to help in understanding how a product should be designed with a security mindset or secure by design principles. How can the incubator be designed to keep required critical functions of the incubator but also provide security in initial design and future upgrades to software and hardware? \n",
        "The Infant Incubator Simulator is based on a simple heat transfer model with three things in mind:\n",
        "1.\tThe room\n",
        "2.\tThe Incubator\n",
        "3.\tThe infant\n",
        "\n",
        "The following assumptions and parameters will be used:\n",
        "\n",
        "The room temperature does not change over time. The incubator is rectangular prism of three dimensions made from Plexiglass. The system will be closed with 5 of the 6 faces of the incubator exposed to the room. The bottom face is not exposed but placed on an insulating pad with negligible heat loss. The infant will be placed in the middle of the bed with no direct contact of skin and chamber walls. All energy shifts are between the Incubator Chamber and through Room through the Plexiglass or, when the infant is inside, between the infant and the incubator thought the skin.\n",
        "\n",
        "For this simulation we will utilize constant heat calculations for the heat of air and animal tissue and constant density calculations for the human body and air at room temperature. Heat transfer and exposed surface area will also be considered constant as well as the heat transfer for Plexiglass.\n",
        "\n",
        "The simulation will take place in a succession of 6 organized steps (timesteps). In physics there is a metaphor for highly simplified models “assume a spherical cow”. In this simulation we will “assume a rectangular cuboid infant”.\n",
        "\n",
        "The simulator will be multithreaded with the following threads:\n",
        "* The Chamber, room, infant, and heat source (part of infant) are part of the main thread\n",
        "* All other components will be separate threads\n",
        " - Heater for chamber\n",
        " - Thermometer used to measure the temperature of the infant\n",
        " - Thermometer used to measure the temperature of the chamber\n",
        "\n",
        "Finally, there are some assumptions that are made regarding chamber operations. \n",
        "* It will be empty, and room temp to begin\n",
        "* It has been turned on to warm up to desired temperature \n",
        "* The Infant is placed inside when target temperature is reached\n",
        "* Opening the chamber will result in heat loss\n",
        "\n",
        "These conditions are implemented as three special events. \n",
        "1.\tWhen the chamber is open\n",
        "2.\tWhen the infant is placed inside the chamber\n",
        "3.\tWhen the infant is removed from the chamber\n",
        "\n",
        "**Task 2 - Identify and list all the libraries being used in the project and explain in a sentence or two, what the parameters are.**\n",
        "* `threading` – threading library helps run various parts of the program concurrently. This library is used in various classes within the infinc.py  \n",
        "* `matplotlib.pyplot` – This library helps with plotting and visualizing charts  \n",
        "* `matplotlib.animation`- This library helps with animating updated infant and incubator temperatures  \n",
        "* `infinc` – This is a custom developed module which contains all the necessary classes required for the incubator simulation\n",
        "* `time` – This library consists of time related function. This library is used to utilize the sleep () function from the time library which suspends execution time of threads, such as SmartHeater, Simulator, etc. \n",
        "* `socket` – This is a network library. This helps with opening socket, connecting to the server and send/receive data. Both the SimpleNetworkClient and SimpleNetworkServer class use socket library communicate\n",
        "* `fcntl` – This manages the server socket information once the client is connected\n",
        "* `os` – This library provides operating system related capabilities. It is to take advantage of os.O_NONBLOCK flag in the fcntl() function\n",
        "* `errno` – This library provides python’s standard error codes such as errno.EWOULDBLOCK\n",
        "* `random` – This library provides a list of functions for pseudo-random number generation\n",
        "* `string` – This is a built-in standard python library provide various string manipulation functions\n",
        "* `math` – This library provides math calculation functions. To calculate square root [sqrt()], math library is used \n",
        "\n",
        "`Infinc.py` – This python file contains class definitions of all the required objects for the incubator simulation\n",
        "* \\_\\_init\\_\\_ - is a constructor function to initialize an object with initial parameter. For example, mass, length, and temperature are used as arguments when Human object is created.\n",
        "* run() – This function is called when a thread starts (by called object.start()). Content of this function executes.\n",
        "\n",
        "`SampleClient.py` – This file creates all required objects defined in the infinc.py module. It then initializes SimpleClient object using SmartThermometer object so that infant and incubator temperatures can be animated using animation.FuncAnimation() \n",
        "* updateTime() – This function sets the time in the graph for x-axis and adds the title to the plot.\n",
        "* updateInfTemp() – This function sets/updates infant’s body temperature. This receives temperatures via SmartThermometer which has a Human/infant object as a parameter.\n",
        "* updateIncTemp() – This function sets/updates incubator’s temperature. This received temperatures via SmartThermometer objects using Incubator as parameter.\n",
        "\n",
        "`SampleNetworkClient.py` – This file contains SimpleNetworkClient class. This class is like the SimpleClient class except that it connects to the server at port 23456 and 23457 to get updated temperature for infant and incubator.\n",
        "* authenticate() – This function connects to the server. It uses port and password as parameters.\n",
        "* getTemperatureFromPort() – This function retrieves the temperature from the server. It uses port and token as parameters. The token is obtained using authenticate() function ahead of time\n",
        "* updateInfTemp() & updateIncTemp() – these functions obtain infant and incubator temperature from the server. They first authenticate at the server with authenticate() function and retrieve temperature using getTemperatureFormPort() function. Finally, they animate plot using animation.FuncAnimation()\n",
        " \n",
        "`SampleNetworkServer.py` – This module contains SmartNetworkThemometer class that has capabilities for clients to connect via socket and retrieve temperatures. This server component runs at 127.0.0.0 and listens to port 23456 & 23457. This module also contains its own SimpleClient so that it can display temperature when it runs by itself.\n",
        "* getTemperature()- provide a current temperature of the SmartNetworkThemometer\n",
        "* updateTemperature() – This updates the current temperature of the SmartNetworkThermometer\n",
        "* processCommands() – This function process various commands (i.e. AUTH, LOGOUT) send by a client and execute them when SimpleNetworkThermometer thread starts. This function takes two parameters – msg which is commands like AUTH and LOGOUT and address which is address of the client\n",
        "\n",
        "Other functions:\n",
        "* start() – This function is part of the thread library. There are several classes defined in the infinc.py file to be later initialized as threads. To initialize threads, start() function is used with the respective objects.\n",
        "* grid() – This function adds grid line in the plot/graph\n",
        "* show() – This displays all the grids, incubator and infant temperature data in the plot\n",
        "\n"
      ],
      "metadata": {
        "id": "HWSNxgArhjrb"
      }
    }
  ]
}
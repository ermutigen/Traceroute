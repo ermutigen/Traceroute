{
  "cells": [
    {
      "cell_type": "markdown",
      "metadata": {
        "id": "view-in-github",
        "colab_type": "text"
      },
      "source": [
        "<a href=\"https://colab.research.google.com/github/ermutigen/Traceroute/blob/master/Lab2/lab2_group_15.ipynb\" target=\"_parent\"><img src=\"https://colab.research.google.com/assets/colab-badge.svg\" alt=\"Open In Colab\"/></a>"
      ]
    },
    {
      "cell_type": "markdown",
      "id": "12df2bf3",
      "metadata": {
        "id": "12df2bf3"
      },
      "source": [
        "# Lab2\n",
        "## Group 15\n",
        "Jake Woratzeck - jcw9324\\\n",
        "Trang Duong - tpd269\\\n",
        "Eric Lankford - el3293\\\n",
        "Shak Farok - saf642"
      ]
    },
    {
      "cell_type": "markdown",
      "source": [
        "#Question 1: Please explain the following terms:\n",
        "A. Cryptography - The science and art of desigining or the study of ciphers for secure communication. The process of desiging protocols to protect private messages.  \\\n",
        "\n",
        "B. Encryption - \\\n",
        "\n",
        "C. Plain Text - \\\n",
        "\n",
        "D. Cipher Text - \\\n",
        "\n",
        "E. Decryption - \\\n",
        "\n",
        "F. Double Strength Encryption - \\\n",
        "\n",
        "G. Hybrid Encryption - \\"
      ],
      "metadata": {
        "id": "z1oZB-ixtA5d"
      },
      "id": "z1oZB-ixtA5d"
    },
    {
      "cell_type": "code",
      "execution_count": null,
      "id": "33c60002",
      "metadata": {
        "id": "33c60002"
      },
      "outputs": [],
      "source": [
        "Q2 here!"
      ]
    },
    {
      "cell_type": "code",
      "execution_count": null,
      "id": "3164eb35",
      "metadata": {
        "id": "3164eb35"
      },
      "outputs": [],
      "source": [
        "Q3 here!"
      ]
    }
  ],
  "metadata": {
    "kernelspec": {
      "display_name": "Python 3 (ipykernel)",
      "language": "python",
      "name": "python3"
    },
    "language_info": {
      "codemirror_mode": {
        "name": "ipython",
        "version": 3
      },
      "file_extension": ".py",
      "mimetype": "text/x-python",
      "name": "python",
      "nbconvert_exporter": "python",
      "pygments_lexer": "ipython3",
      "version": "3.9.12"
    },
    "colab": {
      "name": "lab2_group_15.ipynb",
      "provenance": [],
      "include_colab_link": true
    }
  },
  "nbformat": 4,
  "nbformat_minor": 5
}